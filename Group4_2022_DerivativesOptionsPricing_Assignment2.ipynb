{
  "nbformat": 4,
  "nbformat_minor": 0,
  "metadata": {
    "colab": {
      "name": "Group4_2022_DerivativesOptionsPricing_Assignment2.ipynb",
      "provenance": [],
      "collapsed_sections": []
    },
    "kernelspec": {
      "name": "python3",
      "display_name": "Python 3"
    },
    "language_info": {
      "name": "python"
    }
  },
  "cells": [
    {
      "cell_type": "markdown",
      "source": [
        "# **Derivatives and Option Pricing 40.242**\n",
        "# **Group Assignment 2**\n",
        "# **Code Repository**\n",
        "## Group 4 \n",
        "## Team Members:\n",
        "### Nicholas Tan Yi Da (1004126) \n",
        "### Praveen Rajesh (1004322) \n",
        "### Dody Senputra (1004335) \n",
        "### Noel Tan Heng Kiat (1004136) \n",
        "### Edric Tjandra (1004306) "
      ],
      "metadata": {
        "id": "S7i7ChiaDiRy"
      }
    },
    {
      "cell_type": "markdown",
      "source": [
        "## Import all relevant libraries"
      ],
      "metadata": {
        "id": "Pn9TUUtjYxtl"
      }
    },
    {
      "cell_type": "code",
      "source": [
        "# import all the relevant libraries\n",
        "import numpy as np\n",
        "from numpy.ma.core import mean\n",
        "import math\n",
        "import itertools\n",
        "# from decimal import Decimal\n",
        "# from decimal import *"
      ],
      "metadata": {
        "id": "luKaDeEnnIK3"
      },
      "execution_count": 61,
      "outputs": []
    },
    {
      "cell_type": "markdown",
      "source": [
        "## Initial Parameters\n",
        "\n",
        "### stock price at t=0, S0 : $300\n",
        "\n",
        "### annual dividend, q : 4% continuous compunding\n",
        "\n",
        "### risk free rate, rf : 5% continuous compounding rate\n",
        "\n",
        "### strike price, X : $310\n",
        "\n",
        "### days to expiry/simulation period: 480\n",
        "\n",
        "### annual volatility: 15%\n"
      ],
      "metadata": {
        "id": "ZPeZrsdKkyIw"
      }
    },
    {
      "cell_type": "markdown",
      "source": [
        "## Monte Carlo Simulation"
      ],
      "metadata": {
        "id": "vG2ZiKwkFfsA"
      }
    },
    {
      "cell_type": "code",
      "source": [
        "# common function for monte carlo simulation\n",
        "np.random.seed(123) # set common random seed for consistency\n",
        "def monte_carlo(n,option):\n",
        "    # n: number of iterations\n",
        "    # option: 0 - put option, 1 - call option\n",
        "    \n",
        "    mu, sigma = ( (0.05-0.04-0.5*(0.15**2))*(480/360) , 0.15*((480/360)**0.5) ) # creating mean and stdev parameters for random normal distribution\n",
        "    payout_list = np.array([])\n",
        "    simulated_return = np.random.normal(mu, sigma, size=(n))\n",
        "\n",
        "    if option == 1:\n",
        "        for i in simulated_return:\n",
        "            T_price = 300.0*math.exp(i)\n",
        "            payout_list = np.append(payout_list, max([T_price - 310,0])) # generate list of simulated payouts\n",
        "    else:\n",
        "        for i in simulated_return:\n",
        "            T_price = 300.0*math.exp(i)\n",
        "            payout_list = np.append(payout_list, max([310 - T_price,0])) # generate list of simulated payouts\n",
        "\n",
        "    option_price = mean(payout_list) * math.exp(-0.05*(480/360)) # calculate option price\n",
        "\n",
        "    return option_price"
      ],
      "metadata": {
        "id": "cOMy3qCUQCPe"
      },
      "execution_count": 62,
      "outputs": []
    },
    {
      "cell_type": "markdown",
      "source": [
        "### Number of iterations: 1000, CALL OPTION"
      ],
      "metadata": {
        "id": "xHe_OCjWmqTw"
      }
    },
    {
      "cell_type": "code",
      "execution_count": 63,
      "metadata": {
        "id": "mzErR7Z0DQy8",
        "colab": {
          "base_uri": "https://localhost:8080/"
        },
        "outputId": "34e760ac-1a33-4a3e-f178-0744ab2c22ef"
      },
      "outputs": [
        {
          "output_type": "execute_result",
          "data": {
            "text/plain": [
              "16.201489034400556"
            ]
          },
          "metadata": {},
          "execution_count": 63
        }
      ],
      "source": [
        "np.random.seed(123)\n",
        "monte_carlo(1000,1)"
      ]
    },
    {
      "cell_type": "markdown",
      "source": [
        "### Number of iterations: 10000, CALL OPTION"
      ],
      "metadata": {
        "id": "TeFHTjfumyZ_"
      }
    },
    {
      "cell_type": "code",
      "source": [
        "np.random.seed(123)\n",
        "monte_carlo(10000,1)"
      ],
      "metadata": {
        "id": "NHJnmH9Mm2hv",
        "colab": {
          "base_uri": "https://localhost:8080/"
        },
        "outputId": "72a8034f-50fe-4625-dbc0-65dc8ebfe32d"
      },
      "execution_count": 64,
      "outputs": [
        {
          "output_type": "execute_result",
          "data": {
            "text/plain": [
              "17.365751955658272"
            ]
          },
          "metadata": {},
          "execution_count": 64
        }
      ]
    },
    {
      "cell_type": "markdown",
      "source": [
        "### Number of iterations: 10000, CALL OPTION"
      ],
      "metadata": {
        "id": "2ZaDNmmsmzG9"
      }
    },
    {
      "cell_type": "code",
      "source": [
        "np.random.seed(123)\n",
        "monte_carlo(100000,1)"
      ],
      "metadata": {
        "id": "kYxPqtzLm2_m",
        "colab": {
          "base_uri": "https://localhost:8080/"
        },
        "outputId": "d1ccce53-eca7-4bec-f2fd-859d28dcc96f"
      },
      "execution_count": 65,
      "outputs": [
        {
          "output_type": "execute_result",
          "data": {
            "text/plain": [
              "17.1943873090581"
            ]
          },
          "metadata": {},
          "execution_count": 65
        }
      ]
    },
    {
      "cell_type": "markdown",
      "source": [
        "### Number of iterations: 1000, PUT OPTION"
      ],
      "metadata": {
        "id": "_x-dbzhveiGU"
      }
    },
    {
      "cell_type": "code",
      "source": [
        "np.random.seed(123)\n",
        "monte_carlo(1000,0)"
      ],
      "metadata": {
        "id": "xz_MSpi1eiGb",
        "colab": {
          "base_uri": "https://localhost:8080/"
        },
        "outputId": "36f563ed-73cf-47fd-8c6c-0f538d7b45c5"
      },
      "execution_count": 66,
      "outputs": [
        {
          "output_type": "execute_result",
          "data": {
            "text/plain": [
              "23.73250928994615"
            ]
          },
          "metadata": {},
          "execution_count": 66
        }
      ]
    },
    {
      "cell_type": "markdown",
      "source": [
        "### Number of iterations: 10000, PUT OPTION"
      ],
      "metadata": {
        "id": "lDVcc1N5eiQh"
      }
    },
    {
      "cell_type": "code",
      "source": [
        "np.random.seed(123)\n",
        "monte_carlo(10000,0)"
      ],
      "metadata": {
        "id": "plN4ZMp_eiQh",
        "colab": {
          "base_uri": "https://localhost:8080/"
        },
        "outputId": "e065b7df-9d28-4b79-c978-ed879ff74e58"
      },
      "execution_count": 67,
      "outputs": [
        {
          "output_type": "execute_result",
          "data": {
            "text/plain": [
              "22.490216306890325"
            ]
          },
          "metadata": {},
          "execution_count": 67
        }
      ]
    },
    {
      "cell_type": "markdown",
      "source": [
        "### Number of iterations: 100000, PUT OPTION"
      ],
      "metadata": {
        "id": "4AbO2hEYeiZh"
      }
    },
    {
      "cell_type": "code",
      "source": [
        "np.random.seed(123)\n",
        "monte_carlo(100000,0)"
      ],
      "metadata": {
        "id": "0SxxTJn0eiZi",
        "colab": {
          "base_uri": "https://localhost:8080/"
        },
        "outputId": "abb399e1-6a61-4ceb-d2ed-260d5c863596"
      },
      "execution_count": 68,
      "outputs": [
        {
          "output_type": "execute_result",
          "data": {
            "text/plain": [
              "22.720429457356804"
            ]
          },
          "metadata": {},
          "execution_count": 68
        }
      ]
    },
    {
      "cell_type": "markdown",
      "source": [
        "## Binomial Option Pricing"
      ],
      "metadata": {
        "id": "iiwPL9aEcWdu"
      }
    },
    {
      "cell_type": "code",
      "source": [
        "def binomial_tree(n,option):\n",
        "    # n : number of simulated time steps\n",
        "    # option: 0 - put option, 1 - call option\n",
        "    # with reference to John Hull's Option Textbook Chapter 13.8\n",
        "\n",
        "    delta_t = ((16/12)/n) # discount rate\n",
        "    prob_pattern = ['u','d'] # u - up, d - down\n",
        "    prob_pattern_list = [i for i in itertools.combinations_with_replacement(prob_pattern,n)] # generates list of price movement pattern strings\n",
        "    up_change = math.exp(0.15*math.sqrt(delta_t))\n",
        "    down_change = math.exp(-0.15*math.sqrt(delta_t))\n",
        "    up_prob = (math.exp((0.05-0.04)*delta_t) - down_change) / (up_change - down_change) # up movement probability\n",
        "    down_prob = 1-up_prob # down movement probability\n",
        "    print(\"Up/down prob: \", up_prob, down_prob)\n",
        "    prob_list = [] # list of overall probabilities at final timestep\n",
        "    price_change_list = [] # list of overall changes to initial stock price at final timestep\n",
        "    payout_list = None # provides final payouts list at final timestep\n",
        "    expected_end_payout = 0 # overall expected payout at final timestep\n",
        "\n",
        "    # print(prob_pattern_list)\n",
        "    # print(prob_pattern_list[0].count(\"u\")==n)\n",
        "\n",
        "    for i in prob_pattern_list:\n",
        "        end_prob = 1\n",
        "        end_change = 1\n",
        "        for e in i:\n",
        "            if e == 'u':\n",
        "                end_prob = end_prob * up_prob\n",
        "                end_change = end_change * up_change\n",
        "            else:\n",
        "                end_prob = end_prob * down_prob\n",
        "                end_change = end_change * down_change\n",
        "        prob_list.append(end_prob)\n",
        "        price_change_list.append(end_change)\n",
        "\n",
        "    # print(\"Prob sum: \",sum(prob_list))\n",
        "\n",
        "    if option == 1:\n",
        "        payout_list = [max((300*i)-310,0) for i in price_change_list]\n",
        "        # print([300*i for i in price_change_list])\n",
        "        # print(payout_list)\n",
        "    else:\n",
        "        payout_list = [max(310-(300*i),0) for i in price_change_list]\n",
        "        # print([300*i for i in price_change_list])\n",
        "        # print(payout_list)\n",
        "\n",
        "    # expected_end_payout = 0\n",
        "\n",
        "    for i in range(0, len(prob_list)):\n",
        "        if (prob_pattern_list[i].count('u')== n) or (prob_pattern_list[i].count('d')== n): \n",
        "            # capture extreme two ends of binomial option tree and there is always only 1 way to go there. \n",
        "            # print(prob_list[i])\n",
        "            # print(payout_list[i])\n",
        "            expected_end_payout += prob_list[i]*payout_list[i]\n",
        "            # print(expected_end_payout)\n",
        "        else:\n",
        "            # If the endpoint is not at the middle, there will be n ways to reach the endpoint\n",
        "            # where n is equal to the timestamp.  \n",
        "            # print(prob_list[i])\n",
        "            j = prob_pattern_list[i].count('u')\n",
        "            # print(j)\n",
        "            # expected_end_payout += math.comb(n,j)*(prob_list[i])*(payout_list[i])\n",
        "            expected_end_payout += (math.factorial(n)//math.factorial(j)//math.factorial(n-j))*prob_list[i]*payout_list[i]\n",
        "            \n",
        "    #print(expected_end_payout)\n",
        "\n",
        "\n",
        "    option_price = expected_end_payout* math.exp(-(0.05-0.04)*delta_t) # calculate option price\n",
        "\n",
        "    return option_price"
      ],
      "metadata": {
        "id": "rqr5g8IDKTbP"
      },
      "execution_count": 71,
      "outputs": []
    },
    {
      "cell_type": "markdown",
      "source": [
        "### Number of timesteps: 100, CALL OPTION"
      ],
      "metadata": {
        "id": "evOV3IYNq95g"
      }
    },
    {
      "cell_type": "code",
      "source": [
        "binomial_tree(100,1)"
      ],
      "metadata": {
        "id": "VuvZiXNJrRm2",
        "colab": {
          "base_uri": "https://localhost:8080/"
        },
        "outputId": "7bc2a681-1d32-4a6f-b97d-488ab8d562c0"
      },
      "execution_count": 72,
      "outputs": [
        {
          "output_type": "stream",
          "name": "stdout",
          "text": [
            "Up/down prob:  0.49951904718094375 0.5004809528190562\n"
          ]
        },
        {
          "output_type": "execute_result",
          "data": {
            "text/plain": [
              "18.29925218409521"
            ]
          },
          "metadata": {},
          "execution_count": 72
        }
      ]
    },
    {
      "cell_type": "markdown",
      "source": [
        "### Number of timesteps: 500, CALL OPTION"
      ],
      "metadata": {
        "id": "g84uLqmdrGVW"
      }
    },
    {
      "cell_type": "code",
      "source": [
        "binomial_tree(500,1)"
      ],
      "metadata": {
        "id": "Um44gP_vp7RH",
        "colab": {
          "base_uri": "https://localhost:8080/"
        },
        "outputId": "cfb9cb21-bf0b-4d6e-bb75-da926ad38cbd"
      },
      "execution_count": 73,
      "outputs": [
        {
          "output_type": "stream",
          "name": "stdout",
          "text": [
            "Up/down prob:  0.4997848496787866 0.5002151503212133\n"
          ]
        },
        {
          "output_type": "execute_result",
          "data": {
            "text/plain": [
              "18.33169441950317"
            ]
          },
          "metadata": {},
          "execution_count": 73
        }
      ]
    },
    {
      "cell_type": "markdown",
      "source": [
        "### Number of timesteps: 1000, CALL OPTION"
      ],
      "metadata": {
        "id": "Nlub2mxLrGrW"
      }
    },
    {
      "cell_type": "code",
      "source": [
        "binomial_tree(1000,1)"
      ],
      "metadata": {
        "id": "kgw4oNZfOh_C",
        "colab": {
          "base_uri": "https://localhost:8080/"
        },
        "outputId": "a0fe5a45-1b93-4582-b54c-d878c05cb9db"
      },
      "execution_count": 74,
      "outputs": [
        {
          "output_type": "stream",
          "name": "stdout",
          "text": [
            "Up/down prob:  0.4998478602970041 0.5001521397029959\n"
          ]
        },
        {
          "output_type": "execute_result",
          "data": {
            "text/plain": [
              "18.328999387998902"
            ]
          },
          "metadata": {},
          "execution_count": 74
        }
      ]
    },
    {
      "cell_type": "markdown",
      "source": [
        "### Number of timesteps: 100, PUT OPTION"
      ],
      "metadata": {
        "id": "IOz_4rPdrHEr"
      }
    },
    {
      "cell_type": "code",
      "source": [
        "binomial_tree(100,0)"
      ],
      "metadata": {
        "id": "2en5C9jvOmhT",
        "colab": {
          "base_uri": "https://localhost:8080/"
        },
        "outputId": "53ce7662-eb52-4b61-c0a0-130d6efa0544"
      },
      "execution_count": 75,
      "outputs": [
        {
          "output_type": "stream",
          "name": "stdout",
          "text": [
            "Up/down prob:  0.49951904718094375 0.5004809528190562\n"
          ]
        },
        {
          "output_type": "execute_result",
          "data": {
            "text/plain": [
              "24.27167022729631"
            ]
          },
          "metadata": {},
          "execution_count": 75
        }
      ]
    },
    {
      "cell_type": "markdown",
      "source": [
        "### Number of timesteps: 500, CALL OPTION"
      ],
      "metadata": {
        "id": "oZFda9pwrHNn"
      }
    },
    {
      "cell_type": "code",
      "source": [
        "binomial_tree(500,0)"
      ],
      "metadata": {
        "id": "WOUbXQO1OnC1",
        "colab": {
          "base_uri": "https://localhost:8080/"
        },
        "outputId": "760152ae-eb32-45c2-b92b-ec7de120300b"
      },
      "execution_count": 76,
      "outputs": [
        {
          "output_type": "stream",
          "name": "stdout",
          "text": [
            "Up/down prob:  0.4997848496787866 0.5002151503212133\n"
          ]
        },
        {
          "output_type": "execute_result",
          "data": {
            "text/plain": [
              "24.30474955461716"
            ]
          },
          "metadata": {},
          "execution_count": 76
        }
      ]
    },
    {
      "cell_type": "markdown",
      "source": [
        "### Number of timesteps: 1000, CALL OPTION"
      ],
      "metadata": {
        "id": "8vmz1ORQrHWv"
      }
    },
    {
      "cell_type": "code",
      "source": [
        "binomial_tree(1000,0)"
      ],
      "metadata": {
        "id": "8m6E8LNKOnsE",
        "colab": {
          "base_uri": "https://localhost:8080/"
        },
        "outputId": "2e97a703-3bf8-4781-850a-4665c415dfe6"
      },
      "execution_count": 77,
      "outputs": [
        {
          "output_type": "stream",
          "name": "stdout",
          "text": [
            "Up/down prob:  0.4998478602970041 0.5001521397029959\n"
          ]
        },
        {
          "output_type": "execute_result",
          "data": {
            "text/plain": [
              "24.302134164392548"
            ]
          },
          "metadata": {},
          "execution_count": 77
        }
      ]
    }
  ]
}
